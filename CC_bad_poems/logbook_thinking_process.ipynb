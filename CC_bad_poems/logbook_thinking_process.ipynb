{
 "cells": [
  {
   "cell_type": "markdown",
   "source": [
    "# BAD POEMS by Edgar Allan Poe - Computer Version #"
   ],
   "metadata": {
    "collapsed": false
   },
   "id": "d42f4105461180ee"
  },
  {
   "cell_type": "markdown",
   "source": [
    "## 1. Inspirational set ##\n",
    "We firstly chose and created an inspirational poem set. We have delineated our anthology to exclusively feature the poetic works of Edgar Allan Poe, with a particular focus on those that explore themes of love, romance, mystery, and the interplay between these concepts.  It is noteworthy that rather than including entire poems, we have thoughtfully excerpted select verses from various Poe compositions. This selective extraction serves to enhance the diversity and inspirational resonance of our curated poem set.\n",
    "\n",
    "This set was saved in a .txt file, which will be further preprocessed. As such, the words were written in lowercase and any punctuation was removed.\n"
   ],
   "metadata": {
    "collapsed": false
   },
   "id": "dacbd70d7eaa850"
  },
  {
   "cell_type": "code",
   "execution_count": 2,
   "outputs": [],
   "source": [
    "import random\n",
    "import os\n",
    "import string\n",
    "import nltk\n",
    "import pronouncing\n",
    "from nltk.corpus import cmudict\n",
    "\n",
    "pronouncing_dict = cmudict.dict()\n",
    "\n",
    "# Load and preprocess input poems sentences\n",
    "with open('poem_inspiration.txt', 'r') as file:\n",
    "    poems_inspiration = file.read().split('\\n')\n",
    "\n",
    "# Function to preprocess the poem_inspiration by removing punctuation and converting to lowercase\n",
    "def preprocess_poem(poems):\n",
    "    clean_inspiration = poems.translate(str.maketrans('', '', string.punctuation)).lower()\n",
    "    return clean_inspiration\n",
    "\n",
    "poems_inspiration = [preprocess_poem(poem) for poem in poems_inspiration]"
   ],
   "metadata": {
    "collapsed": false,
    "ExecuteTime": {
     "end_time": "2023-10-18T15:36:10.685798100Z",
     "start_time": "2023-10-18T15:36:09.610378200Z"
    }
   },
   "id": "a44031ae86b7cbd"
  },
  {
   "cell_type": "markdown",
   "source": [
    "## 2. Model Approach ##\n",
    "We decided on the Markov chain approach. In the context of natural language processing and text generation, this approach is used to model the probability of transitioning from one word or phrase to another, allowing them to generate text that appears coherent and resembles the patterns observed in the training data. \n",
    "\n",
    "In our context, the Markov chain analyzes a text corpus and generates new text by selecting the next word based on the probability distribution of words that follow the current word. \n"
   ],
   "metadata": {
    "collapsed": false
   },
   "id": "cc552682ba7381d8"
  },
  {
   "cell_type": "code",
   "execution_count": 3,
   "outputs": [],
   "source": [
    "# Build a Markov chain model based on inspiring poems\n",
    "def build_markov_chain(poems):\n",
    "    chain = {}\n",
    "    for poem in poems:\n",
    "        words = poem.split()\n",
    "        for i in range(len(words) - 1):\n",
    "            current_word = words[i]\n",
    "            next_word = words[i + 1]\n",
    "            if current_word in chain:\n",
    "                chain[current_word].append(next_word)\n",
    "            else:\n",
    "                chain[current_word] = [next_word]\n",
    "    return chain\n",
    "\n",
    "markov_chain = build_markov_chain(poems_inspiration)\n"
   ],
   "metadata": {
    "collapsed": false,
    "ExecuteTime": {
     "end_time": "2023-10-18T15:36:18.652684400Z",
     "start_time": "2023-10-18T15:36:18.637060Z"
    }
   },
   "id": "ec4ae491978e7839"
  },
  {
   "cell_type": "markdown",
   "source": [
    "## 3. Rhyme Creation ##\n",
    "Additionally, we thought about creating rhymes for the obtained poems. The rhymes are done between two consecutive lines: if the last word from the second line doesn't rhyme with the last word from the first line, it will be changed (the word from the second line) with another word from the dictionary that rhymes. \n",
    "\n",
    "Selecting how the rhymes should be accomplished was a laborious task, and we concluded by combing two approaches: \n",
    "1. creating rhymes based on the last 3 characters of the word for those whose length is greater than 2\n",
    "2. creating rhymes based on the pronunciation for the smaller words (of one or two letters)\n",
    "\n",
    "The second method was implemented to counter the problem when lines end with 'I'. (Edgar Allan Poe adeptly employed the inversion technique within his poetic compositions, a literary device characterized by the interchange of pronouns and verbs. Consequently, drawing inspiration from such an artful practice, our automated poem generator occasionally incorporates similar structural inversion into its generated verses.)\n",
    "\n",
    "Moreover, the pronunciation approach exhibits a certain shortcoming, with regard to the occasional inability to identify rhyming words contained within the English lexicon. Thus, further preprocessing measures were implemented to rectify this inconvenience, involving the removal of rhyming words that do not align with established English vocabulary.\n",
    "\n",
    "For diversity purposes, we chose not to use the same rhyme twice in a generated poem. \n",
    "As a result, whenever a rhyme is introduced, we check its prior usage among the various potential rhymes. If it has not been previously employed, the current rhyme is integrated into the verse, conversely, if it has already been utilized, we choose the next rhyme from the pool of available rhymes.\n",
    "\n",
    "Finally, we thought \"Shouldn't grammar matter when selecting the rhymes?\". The prevailing answer was \"YES, for example we cannot have two verbs next to each other\". To tackle this issue we used the pos tags delivered by the NLTK package in the following way: \n",
    "   \n",
    "If the second last word was: \n",
    "1. __noun__ or __personal pronoun ->__ the rhyme should be a __verb__\n",
    "2. __verb ->__ the rhyme should be an __adjective__\n",
    "3. __adjective__, __possessive pronoun__, __determiner__ or __preposition ->__ the rhyme should be a __noun__\n"
   ],
   "metadata": {
    "collapsed": false
   },
   "id": "5d11c7c9ec5adac1"
  },
  {
   "cell_type": "code",
   "execution_count": null,
   "outputs": [],
   "source": [
    "def find_rhymes(word):\n",
    "    # Get the phonetic representation of the input word\n",
    "    word = word.lower()\n",
    "    rhyme_with = word[-3:]\n",
    "\n",
    "    # Find words with the same phonetic ending\n",
    "    rhymes = []\n",
    "    for w, phonemes in pronouncing_dict.items():\n",
    "        rhyme = w[-3:]\n",
    "        if rhyme == rhyme_with:\n",
    "            rhymes.append(w)\n",
    "    return rhymes\n",
    "\n",
    "\n",
    "def find_rhymes_pronounced(word):\n",
    "    rhymes = pronouncing.rhymes(word)\n",
    "\n",
    "    correct_rhymes = [rhyme for rhyme in rhymes if rhyme in pronouncing_dict.values()]\n",
    "    return correct_rhymes\n",
    "\n",
    "\n",
    "def get_most_common_pos_tag(word):\n",
    "    tokens = nltk.word_tokenize(word)\n",
    "    pos_tags = nltk.pos_tag(tokens)\n",
    "    for elem in pos_tags:\n",
    "        tag = elem[1]\n",
    "        return tag\n",
    "\n",
    "\n",
    "def choose_rhyme(rhymes, tag, index):\n",
    "    if tag[:2] == 'NN':\n",
    "        after_tag = 'VB'\n",
    "    elif tag[:2] == 'VB':\n",
    "        after_tag = 'JJ'\n",
    "    elif tag[:2] == 'JJ':\n",
    "        after_tag = 'NN'\n",
    "    elif tag == 'PRP':\n",
    "        after_tag = 'VB'\n",
    "    elif tag == 'PRP$':\n",
    "        after_tag = 'NN'\n",
    "    elif tag == 'IN':\n",
    "        after_tag = 'NN'\n",
    "    elif tag == 'DT':\n",
    "        after_tag = 'NN'\n",
    "    else:\n",
    "        after_tag = 'NN'\n",
    "    for rhyme in rhymes:\n",
    "        if get_most_common_pos_tag(rhyme) == after_tag:\n",
    "            return rhyme\n",
    "    if len(rhymes) > 1:\n",
    "        return rhymes[index]\n",
    "    else:\n",
    "        return None\n"
   ],
   "metadata": {
    "collapsed": false
   },
   "id": "d7324384b7f5da06"
  },
  {
   "cell_type": "markdown",
   "source": [
    "## 4. Poem Generator ##\n",
    "In this part of the code, we consolidate all the gathered information and created functions to implement the poem generator. "
   ],
   "metadata": {
    "collapsed": false
   },
   "id": "eb6f958c44fe9a8c"
  },
  {
   "cell_type": "code",
   "execution_count": 6,
   "outputs": [],
   "source": [
    "def generate_poem(chain, words_per_line, lines=4):\n",
    "    poem = []\n",
    "    # Array to store the rhymes for further checks\n",
    "    used_rhymes = []\n",
    "    index = 0\n",
    "\n",
    "    for _ in range(lines):\n",
    "        current_word = random.choice(list(chain.keys()))\n",
    "        line = [current_word]\n",
    "\n",
    "        for _ in range(words_per_line - 1):\n",
    "            if current_word in chain:\n",
    "                next_word = random.choice(chain[current_word])\n",
    "                if next_word == 'i': next_word = 'I'\n",
    "                line.append(next_word)\n",
    "                current_word = next_word\n",
    "            else:\n",
    "                break\n",
    "\n",
    "        if line:\n",
    "            line[0] = line[0].capitalize()\n",
    "\n",
    "        # A rhyme needs to be added only for even lines\n",
    "        if len(poem) % 2 != 0:\n",
    "            first_line = poem[len(poem) - 1]\n",
    "            second_line = line\n",
    "            lista = first_line.split(' ')\n",
    "            last_word = lista[len(lista) - 1]\n",
    "            if len(last_word) >= 3:\n",
    "                rhymes = find_rhymes(last_word)\n",
    "            else:\n",
    "                rhymes = find_rhymes_pronounced(last_word)\n",
    "\n",
    "\n",
    "            # Get second-last word of second line to set a speech tag for rhyme\n",
    "            second_last = second_line[len(second_line) - 2]\n",
    "            tag_second_last = get_most_common_pos_tag(second_last)\n",
    "            rhyme = choose_rhyme(rhymes, tag_second_last, index)\n",
    "            if rhyme in used_rhymes:\n",
    "                index = index+1\n",
    "            if rhyme is not None:\n",
    "                line.append(rhyme)\n",
    "\n",
    "        poem.append(' '.join(line))\n",
    "\n",
    "    return '\\n'.join(poem)\n"
   ],
   "metadata": {
    "collapsed": false,
    "ExecuteTime": {
     "end_time": "2023-10-18T15:53:54.341529900Z",
     "start_time": "2023-10-18T15:53:54.309770100Z"
    }
   },
   "id": "ad74cdef810c960b"
  },
  {
   "cell_type": "markdown",
   "source": [
    "## 5. Book of poems ##\n",
    "Like any reputable and accomplished poet, our poem generator doesn't merely create a single poem but an entire anthology. The number of poems in the anthology is determined by the user's choice and preference.\n",
    "\n",
    "For our examples we selected the poems to be written on 8 lines and the verses to have a maximum of 4 words. \n",
    "\n",
    "Another noteworthy aspect is that for the poems' presentation, famous chatGPT was asked, given the poem as input, to choose a compelling and memorable title for it. "
   ],
   "metadata": {
    "collapsed": false
   },
   "id": "f2864891c9506c60"
  },
  {
   "cell_type": "code",
   "execution_count": 9,
   "outputs": [
    {
     "name": "stdout",
     "output_type": "stream",
     "text": [
      "This kiss upon the\n",
      "Grey eye glances absinthe\n",
      "Nymph from fairyland\n",
      "Green isle in what ackland\n",
      "Them with a talisman\n",
      "Its soullife ackerman\n",
      "God can I\n",
      "Languid skies\n",
      "\n",
      "\n",
      "Gold can never buy\n",
      "Under the very heaven overbuy\n",
      "Take this kiss upon\n",
      "Hear thy grey eye capon\n",
      "Light of harps unknown\n",
      "Lie dead on high abbotstown\n",
      "Never buy\n",
      "So shake the fever overbuy\n",
      "\n",
      "\n",
      "What eternal condor years\n",
      "Never buy aerostars\n",
      "Single kiss upon her\n",
      "Is not that dear absher\n",
      "Take this kiss upon\n",
      "Truth that my heart capon\n",
      "Mute motionless aghast\n",
      "Is not that years abreast\n",
      "\n",
      "\n",
      "poems book successfully generated\n"
     ]
    }
   ],
   "source": [
    "def create_poems_book(poems_directory, num_poems):\n",
    "    if not os.path.exists(poems_directory):\n",
    "        os.makedirs(poems_directory)\n",
    "\n",
    "    for i in range(num_poems):\n",
    "        poem_content = generate_poem(markov_chain, 4, 8)\n",
    "        print(poem_content)\n",
    "        print('\\n')\n",
    "        poem_filename = os.path.join(poems_directory, f'poem{i + 1}.txt')\n",
    "        with open(poem_filename, 'w') as f:\n",
    "            f.write(poem_content)\n",
    "\n",
    "\n",
    "create_poems_book('poems_book', 3)\n",
    "print(\"poems book successfully generated\")"
   ],
   "metadata": {
    "collapsed": false,
    "ExecuteTime": {
     "end_time": "2023-10-18T15:55:48.178804700Z",
     "start_time": "2023-10-18T15:55:46.736401Z"
    }
   },
   "id": "21981b3679db48db"
  },
  {
   "cell_type": "markdown",
   "source": [
    "## 6. Evaluation ##\n",
    "\n",
    "### 6.1 Evaluation on Edgar Allan Poe poems ###\n",
    "The evaluation began with an expansion of the inspirational set derived from Edgar Allan Poe's work to encompass 229 verses. As a result, the outcomes included a diverse collection of poems that seamlessly blended distinct genres."
   ],
   "metadata": {
    "collapsed": false
   },
   "id": "d4e3d9b9e192e70c"
  },
  {
   "cell_type": "code",
   "execution_count": 11,
   "outputs": [
    {
     "name": "stdout",
     "output_type": "stream",
     "text": [
      "Night or you here\n",
      "Grave and I jere\n",
      "Wandering from the stillness\n",
      "Most knowing eye glances abruptness\n",
      "Thing of the future\n",
      "Engaged in a stately acupuncture\n",
      "Dissever my life and\n",
      "Silence was many a ackland\n",
      "\n",
      "Head at heart search\n",
      "Songs one word lenore arch\n",
      "Nor the silken sad\n",
      "Burden bore her up assad\n",
      "Beast upon a most\n",
      "Alphabet to dream before accost\n",
      "Fiend I\n",
      "Green isle in a\n",
      "\n",
      "Each separate dying ember\n",
      "Feel the nighttide I aber\n",
      "Thee by me dreams\n",
      "Grew stronger hesitating then abrahams\n",
      "Lonely on the lost\n",
      "Turning all that didst accost\n",
      "Forgiveness I\n",
      "Flitting still a demons\n",
      "\n",
      "\n",
      "poems book successfully generated\n"
     ]
    }
   ],
   "source": [
    "with open('EdgarAllanPope_poem_inspiration.txt', 'r') as file:\n",
    "    poems_inspiration = file.read().split('\\n')  # Split poems by newline\n",
    "\n",
    "\n",
    "# Function to preprocess the poem_inspiration by removing punctuation and converting to lowercase\n",
    "def preprocess_poem(poems):\n",
    "    clean_inspiration = poems.translate(str.maketrans('', '', string.punctuation)).lower()\n",
    "    return clean_inspiration\n",
    "\n",
    "\n",
    "poems_inspiration = [preprocess_poem(poem) for poem in poems_inspiration]\n",
    "\n",
    "\n",
    "def create_poems_book(poems_directory, num_poems):\n",
    "    if not os.path.exists(poems_directory):\n",
    "        os.makedirs(poems_directory)\n",
    "\n",
    "    for i in range(num_poems):\n",
    "        poem_content = generate_poem(build_markov_chain(poems_inspiration), 4, 8)\n",
    "        print(poem_content)\n",
    "        print('\\n')\n",
    "        poem_filename = os.path.join(poems_directory, f'poem{i + 1}.txt')\n",
    "        with open(poem_filename, 'w') as f:\n",
    "            f.write(poem_content)\n",
    "\n",
    "create_poems_book('poems_book', 3)\n",
    "print(\"poems book successfully generated\")"
   ],
   "metadata": {
    "collapsed": false,
    "ExecuteTime": {
     "end_time": "2023-10-18T16:06:21.872206600Z",
     "start_time": "2023-10-18T16:06:18.711635700Z"
    }
   },
   "id": "3055cdc09990bfd3"
  },
  {
   "cell_type": "markdown",
   "source": [
    "### 6.2 Evaluation on verses from songs ###\n",
    "In this scenario, we aimed to assess our generator's performance when utilizing an inspirational dataset comprising verses from Eminem's rap songs. This dataset consists of 100 verses."
   ],
   "metadata": {
    "collapsed": false
   },
   "id": "cf0884978508306b"
  },
  {
   "cell_type": "code",
   "execution_count": 13,
   "outputs": [
    {
     "name": "stdout",
     "output_type": "stream",
     "text": [
      "In the bar toasting to me\n",
      "Toasting to meet a freakish little\n",
      "Around to me dad I\n",
      "Truly the sound of holding you\n",
      "Second chance to unpack his hands\n",
      "Much passion youd expect this chance abounds\n",
      "Livelihood I\n",
      "Her yet\n",
      "\n",
      "\n",
      "Weird again hes acting weird again\n",
      "Not a holiday abstain\n",
      "On his back like that its\n",
      "Last look at night I acquits\n",
      "Walk in my voice\n",
      "Keep making that face till it accomplice\n",
      "Loved someone so at my voice\n",
      "Dream of sin doer this one accomplice\n",
      "\n",
      "Down and its a dramatic rate\n",
      "That every time you do this corporate\n",
      "Dramatic rate\n",
      "Let em say that white tank abate\n",
      "Kinda feels like all eyes on\n",
      "Whats her face till it feels\n",
      "Sound of holding you do to\n",
      "Take his own mother\n",
      "\n",
      "\n",
      "poems book successfully generated\n"
     ]
    }
   ],
   "source": [
    "with open('Eminem_inspirational set.txt', 'r') as file:\n",
    "    poems_inspiration = file.read().split('\\n')  # Split poems by newline\n",
    "\n",
    "\n",
    "# Function to preprocess the poem_inspiration by removing punctuation and converting to lowercase\n",
    "def preprocess_poem(poems):\n",
    "    clean_inspiration = poems.translate(str.maketrans('', '', string.punctuation)).lower()\n",
    "    return clean_inspiration\n",
    "\n",
    "\n",
    "poems_inspiration = [preprocess_poem(poem) for poem in poems_inspiration]\n",
    "\n",
    "\n",
    "def create_poems_book(poems_directory, num_poems):\n",
    "    if not os.path.exists(poems_directory):\n",
    "        os.makedirs(poems_directory)\n",
    "\n",
    "    for i in range(num_poems):\n",
    "        poem_content = generate_poem(build_markov_chain(poems_inspiration), 6, 8)\n",
    "        print(poem_content)\n",
    "        print('\\n')\n",
    "        poem_filename = os.path.join(poems_directory, f'poem{i + 1}.txt')\n",
    "        with open(poem_filename, 'w') as f:\n",
    "            f.write(poem_content)\n",
    "\n",
    "create_poems_book('Eminem\\'s_poems_book', 3)\n",
    "print(\"poems book successfully generated\")"
   ],
   "metadata": {
    "collapsed": false,
    "ExecuteTime": {
     "end_time": "2023-10-18T16:43:20.854455800Z",
     "start_time": "2023-10-18T16:43:14.459074400Z"
    }
   },
   "id": "cd4074c27308bfae"
  },
  {
   "cell_type": "markdown",
   "source": [
    "### 6.3 Evaluation Results ###\n",
    "Expanding the number of verses within the Edgar Allan Poe inspirational set led to the generation of more enriched and diverse poems.\n",
    "\n",
    "This improvement can be attributed to several factors:\n",
    "\n",
    "1. A larger dataset allows the model to capture a wider range of themes, moods, and stylistic elements found in Poe's work. Consequently, the generated poems exhibit greater diversity, reflecting the nuances of Poe's literary legacy.\n",
    "\n",
    "2. With more verses, the model gains a deeper understanding of the intricate nuances within Poe's poetry. This heightened comprehension enables it to produce poems that more faithfully reflect the essence of Poe's unique writing style.\n",
    "\n",
    "\n",
    "For the Eminem inspirational set, an additional preprocessing step is required. This step involves a meticulous treatment of the inspirational set since expressions are often shortened using apostrophes (e.g., 'does not' is written as 'doesn't,' and 'I am' is written as 'I'm'). The current preprocessing function does not address this issue. However, tackling this preprocessing concern is essential to enhance the performance of the Markov chain and to generate better poems. As such, we implemented the following code to combat this issue, which can be easily applied to our previous inspirational set. However, it is important to highlight that in Edgar Allan Poe's poems, these shortened expressions are not present.\n",
    "\n",
    "Comparing the Eminem inspirational set with the Edgar Allan Poe inspirational set as the sources used to generate poems, we observe a marked contrast. The Markov model, which relies heavily on probabilities, plays a pivotal role in shaping the outcomes. However, the choice of source material is paramount. In the case of the Eminem set, which includes more contemporary vocabulary, the poems tend to lose a degree of their overall expressionism. This is due to the inherent challenge of probabilistically generating verses that capture the depth and coherence found in a more established literary body, such as Edgar Allan Poe's poetry."
   ],
   "metadata": {
    "collapsed": false
   },
   "id": "69871be64e1397fe"
  },
  {
   "cell_type": "code",
   "execution_count": 15,
   "outputs": [
    {
     "name": "stdout",
     "output_type": "stream",
     "text": [
      "In the next she is her\n",
      "Check the clock absher\n",
      "Writing a chess match she is\n",
      "Empty hand\n",
      "With what day\n",
      "Flow and right now there is aday\n",
      "Gonna write itself\n",
      "Throwing roses at my reason for bookshelf\n",
      "\n",
      "Kinda feels like a jealous man\n",
      "Try to love you smiling ackerman\n",
      "Temperature in the curtain closes they\n",
      "Passion you know they are truly achey\n",
      "Rest of you would fall apart\n",
      "Wait but she is a flow ahart\n",
      "Friday and I\n",
      "Ever since I\n",
      "\n",
      "The blame\n",
      "Wrong with dad I adame\n",
      "Write itself\n",
      "Your face till it is me bookshelf\n",
      "Really beggining to love you and\n",
      "Holding you know that bought me ackland\n",
      "Him in the temperature in the\n",
      "Steel knife absinthe\n",
      "\n",
      "\n",
      "poems book successfully generated\n"
     ]
    }
   ],
   "source": [
    "import re\n",
    "with open('Eminem_inspirational set.txt', 'r') as file:\n",
    "    poems_inspiration = file.read().split('\\n')  # Split poems by newline\n",
    "\n",
    "\n",
    "# Function to preprocess the poem_inspiration by removing punctuation and converting to lowercase\n",
    "def preprocess_poem(poem):\n",
    "    # Convert to lowercase\n",
    "    poem = poem.lower()\n",
    "    # Replace contractions \n",
    "    poem = re.sub(r\"i'm\", \"i am\", poem)\n",
    "    poem = re.sub(r\"he's\", \"he is\", poem)\n",
    "    poem = re.sub(r\"she's\", \"she is\", poem)\n",
    "    poem = re.sub(r\"it's\", \"it is\", poem)\n",
    "    poem = re.sub(r\"that's\", \"that is\", poem)\n",
    "    poem = re.sub(r\"there's\", \"there is\", poem)\n",
    "    poem = re.sub(r\"what's\", \"what is\", poem)\n",
    "    poem = re.sub(r\"where's\", \"where is\", poem)\n",
    "    poem = re.sub(r\"how's\", \"how is\", poem)\n",
    "    poem = re.sub(r\"\\'ll\", \" will\", poem)\n",
    "    poem = re.sub(r\"\\'re\", \" are\", poem)\n",
    "    poem = re.sub(r\"\\'ve\", \" have\", poem)\n",
    "    poem = re.sub(r\"\\'d\", \" would\", poem)\n",
    "    poem = re.sub(r\"\\'t\", \" not\", poem)\n",
    "    \n",
    "    # Remove all the punctuation\n",
    "    poem = re.sub(r\"[\\,.?:;_'!()\\\"-]\", \"\", poem)\n",
    "    return poem\n",
    "\n",
    "\n",
    "poems_inspiration = [preprocess_poem(poem) for poem in poems_inspiration]\n",
    "\n",
    "\n",
    "def create_poems_book(poems_directory, num_poems):\n",
    "    if not os.path.exists(poems_directory):\n",
    "        os.makedirs(poems_directory)\n",
    "\n",
    "    for i in range(num_poems):\n",
    "        poem_content = generate_poem(build_markov_chain(poems_inspiration), 6, 8)\n",
    "        print(poem_content)\n",
    "        print('\\n')\n",
    "        poem_filename = os.path.join(poems_directory, f'poem{i + 1}.txt')\n",
    "        with open(poem_filename, 'w') as f:\n",
    "            f.write(poem_content)\n",
    "\n",
    "create_poems_book('Eminem\\'s_poems_book', 3)\n",
    "print(\"poems book successfully generated\")"
   ],
   "metadata": {
    "collapsed": false,
    "ExecuteTime": {
     "end_time": "2023-10-18T18:52:45.983622300Z",
     "start_time": "2023-10-18T18:52:43.153349Z"
    }
   },
   "id": "9b81bf31a333e3b7"
  },
  {
   "cell_type": "markdown",
   "source": [
    "### 7. Presenting poems book ###\n",
    "To adequately present the remarkable showcase of our Bad Poet program, we harnessed the capabilities of advanced Generative AI systems. The presentation process involved the utilization of three distinct cloud applications, each playing a vital role in shaping the final outcome.\n",
    "\n",
    "1. Stable Diffusion - the generative AI model, known for its capacity to produce high-quality content by employing a diffusion process. To accurately generate results, the concept of a \"prompt\" was leveraged. We meticulously defined the attributes and provided detailed neat description of the desired output. Through this process, we expertly crafted the title page of our poetry collection.\n",
    "2.  Dream Studio - Dream Studio's model, \"SDXL v1.0\" emerged as a key factor in shaping the layout and imagery for the subsequent three pages, each dedicated to presenting our collection of poems. By formulating concise yet instructive prompts, we successfully generated three thematically aligned illustrations, artfully conveying the essence of traditional paper-bound books.\n",
    "    ```\n",
    "    minimal book illustration, (book description)\n",
    "    ```\n",
    "3. Canva - in the final phase, the materials generated thus far were meticulously curated and assembled within the confines of the Canva graphic design platform. Here, our team wielded complete control over the design and format of the book with use of user-friendly and accessible way provided by Canva creator's. The result is a visually appealing and harmoniously designed publication, thoughtfully tailored to complement the thematic and rhythmic qualities of our AI-generated poetry.\n",
    "\n",
    "The poetry collection, aptly titled\n",
    "\"The Ravenous Rhymes: An Ode To Awfully Poe-Tic Poetry,\"\n",
    "is stored in the root folder of the project, serving as a testament to the creative possibilities enabled by advanced AI systems."
   ],
   "metadata": {
    "collapsed": false
   }
  }
 ],
 "metadata": {
  "kernelspec": {
   "display_name": "Python 3",
   "language": "python",
   "name": "python3"
  },
  "language_info": {
   "codemirror_mode": {
    "name": "ipython",
    "version": 2
   },
   "file_extension": ".py",
   "mimetype": "text/x-python",
   "name": "python",
   "nbconvert_exporter": "python",
   "pygments_lexer": "ipython2",
   "version": "2.7.6"
  }
 },
 "nbformat": 4,
 "nbformat_minor": 5
}
